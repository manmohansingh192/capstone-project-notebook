{
 "cells": [
  {
   "cell_type": "markdown",
   "metadata": {},
   "source": [
    "# Introduction/Business Problem"
   ]
  },
  {
   "cell_type": "markdown",
   "metadata": {},
   "source": [
    "To find a good location for opening a motel, with maximum footprint of tourists. A great business hotel ensures that you have everything you need on site to stay connected and productive. Complimentary Wi-Fi, in-room phones, and a 24/7 business center are essential, and extra space to work makes it that much easier to stay focused.\n",
    "\n",
    "Now that all your prep is done, don’t stress about making it to your morning meeting. Make sure that your hotel has a great location that makes it easy to get to where you need to be. Clarion Inn Elmhurst – Oakbrook is ideally located in the Chicago suburbs, close to local corporations like Hub Group, Master Lock, Kellogg, and more, while also boasting just a quick drive to downtown and O’Hare Airport."
   ]
  },
  {
   "cell_type": "markdown",
   "metadata": {},
   "source": [
    "# Data"
   ]
  },
  {
   "cell_type": "markdown",
   "metadata": {},
   "source": [
    "i will use distance from tourist spots and other hotels as a factors. Also number of vistors for different locations such as local markets etc. like Grand Motel, 1 stars, Scarborough, Toronto which is situated 21 km from The Distillery District, 22 km from St. Lawrence Market and 23 km from Hockey Hall of Fame."
   ]
  }
 ],
 "metadata": {
  "kernelspec": {
   "display_name": "Python",
   "language": "python",
   "name": "conda-env-python-py"
  },
  "language_info": {
   "codemirror_mode": {
    "name": "ipython",
    "version": 3
   },
   "file_extension": ".py",
   "mimetype": "text/x-python",
   "name": "python",
   "nbconvert_exporter": "python",
   "pygments_lexer": "ipython3",
   "version": "3.6.7"
  }
 },
 "nbformat": 4,
 "nbformat_minor": 4
}
